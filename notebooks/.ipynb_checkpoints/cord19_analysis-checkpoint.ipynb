{
 "cells": [
  {
   "cell_type": "code",
   "execution_count": null,
   "id": "8af0d0e1",
   "metadata": {},
   "outputs": [],
   "source": [
    "import pandas as pd\n",
    "import matplotlib.pyplot as plt\n",
    "import seaborn as sns\n",
    "from wordcloud import WordCloud"
   ]
  },
  {
   "cell_type": "code",
   "execution_count": null,
   "id": "6cfe1bca",
   "metadata": {},
   "outputs": [],
   "source": [
    "\n",
    "# Load dataset\n",
    "df = pd.read_csv(\"../data/metadata.csv\")\n",
    "\n",
    "# Inspect dataset\n",
    "print(\"Shape:\", df.shape)\n",
    "print(df.info())\n",
    "print(df.head())\n",
    "\n",
    "# Missing values\n",
    "print(df.isnull().sum().head(20))\n",
    "\n",
    "# Basic stats\n",
    "print(df.describe())"
   ]
  },
  {
   "cell_type": "code",
   "execution_count": null,
   "id": "fb4b88b9",
   "metadata": {},
   "outputs": [],
   "source": [
    "# Part 2: Data Cleaning and Preparation\n",
    "# Handle missing publication dates\n",
    "df['publish_time'] = pd.to_datetime(df['publish_time'], errors='coerce')\n",
    "df = df.dropna(subset=['publish_time'])\n",
    "\n",
    "# Extract year\n",
    "df['year'] = df['publish_time'].dt.year\n",
    "\n",
    "# Abstract word count\n",
    "df['abstract_word_count'] = df['abstract'].fillna(\"\").apply(lambda x: len(x.split()))\n"
   ]
  },
  {
   "cell_type": "code",
   "execution_count": null,
   "id": "522f9024",
   "metadata": {},
   "outputs": [],
   "source": [
    "# Part 3: Analysis & Visualization\n",
    "\n",
    "# 1. Papers by Year\n",
    "year_counts = df['year'].value_counts().sort_index()\n",
    "plt.figure(figsize=(8,5))\n",
    "sns.barplot(x=year_counts.index, y=year_counts.values, color=\"skyblue\")\n",
    "plt.title(\"Publications by Year\")\n",
    "plt.ylabel(\"Number of Papers\")\n",
    "plt.show()\n",
    "\n",
    "# 2. Top Journals\n",
    "top_journals = df['journal'].value_counts().head(10)\n",
    "plt.figure(figsize=(8,5))\n",
    "sns.barplot(y=top_journals.index, x=top_journals.values, color=\"coral\")\n",
    "plt.title(\"Top 10 Journals Publishing COVID-19 Research\")\n",
    "plt.xlabel(\"Number of Papers\")\n",
    "plt.show()\n",
    "\n",
    "# 3. Word Cloud from Titles\n",
    "text = \" \".join(df['title'].dropna().astype(str))\n",
    "wc = WordCloud(width=800, height=400, background_color=\"white\").generate(text)\n",
    "plt.figure(figsize=(10,6))\n",
    "plt.imshow(wc, interpolation=\"bilinear\")\n",
    "plt.axis(\"off\")\n",
    "plt.title(\"Most Frequent Words in Paper Titles\")\n",
    "plt.show()\n",
    "\n",
    "# 4. Distribution by Source\n",
    "source_counts = df['source_x'].value_counts().head(10)\n",
    "plt.figure(figsize=(8,5))\n",
    "sns.barplot(y=source_counts.index, x=source_counts.values, color=\"green\")\n",
    "plt.title(\"Top Data Sources\")\n",
    "plt.xlabel(\"Number of Papers\")\n",
    "plt.show()\n"
   ]
  }
 ],
 "metadata": {
  "kernelspec": {
   "display_name": "Python 3",
   "language": "python",
   "name": "python3"
  },
  "language_info": {
   "codemirror_mode": {
    "name": "ipython",
    "version": 3
   },
   "file_extension": ".py",
   "mimetype": "text/x-python",
   "name": "python",
   "nbconvert_exporter": "python",
   "pygments_lexer": "ipython3",
   "version": "3.11.11"
  }
 },
 "nbformat": 4,
 "nbformat_minor": 5
}
